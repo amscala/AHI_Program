{
  "nbformat": 4,
  "nbformat_minor": 0,
  "metadata": {
    "colab": {
      "name": "Data analysis assignment",
      "provenance": [],
      "include_colab_link": true
    },
    "kernelspec": {
      "name": "python3",
      "display_name": "Python 3"
    }
  },
  "cells": [
    {
      "cell_type": "markdown",
      "metadata": {
        "id": "view-in-github",
        "colab_type": "text"
      },
      "source": [
        "<a href=\"https://colab.research.google.com/github/amscala/AHI_Program/blob/main/Data_analysis_assignment.ipynb\" target=\"_parent\"><img src=\"https://colab.research.google.com/assets/colab-badge.svg\" alt=\"Open In Colab\"/></a>"
      ]
    },
    {
      "cell_type": "code",
      "metadata": {
        "id": "TfSBBFzxFKH4",
        "colab": {
          "resources": {
            "http://localhost:8080/nbextensions/google.colab/files.js": {
              "data": "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",
              "ok": true,
              "headers": [
                [
                  "content-type",
                  "application/javascript"
                ]
              ],
              "status": 200,
              "status_text": ""
            }
          },
          "base_uri": "https://localhost:8080/",
          "height": 92
        },
        "outputId": "4a1a345f-a87b-44ae-8f42-280ed87d6e35"
      },
      "source": [
        "from google.colab import files\n",
        "\n",
        "uploaded = files.upload()"
      ],
      "execution_count": null,
      "outputs": [
        {
          "output_type": "display_data",
          "data": {
            "text/html": [
              "\n",
              "     <input type=\"file\" id=\"files-bff72386-70ee-42c8-a281-fbdaca59ff49\" name=\"files[]\" multiple disabled\n",
              "        style=\"border:none\" />\n",
              "     <output id=\"result-bff72386-70ee-42c8-a281-fbdaca59ff49\">\n",
              "      Upload widget is only available when the cell has been executed in the\n",
              "      current browser session. Please rerun this cell to enable.\n",
              "      </output>\n",
              "      <script src=\"/nbextensions/google.colab/files.js\"></script> "
            ],
            "text/plain": [
              "<IPython.core.display.HTML object>"
            ]
          },
          "metadata": {
            "tags": []
          }
        },
        {
          "output_type": "stream",
          "text": [
            "Saving National_Vital_Statistics_System__NVSS__-_National_Cardiovascular_Disease_Surveillance_Data.csv to National_Vital_Statistics_System__NVSS__-_National_Cardiovascular_Disease_Surveillance_Data.csv\n"
          ],
          "name": "stdout"
        }
      ]
    },
    {
      "cell_type": "code",
      "metadata": {
        "id": "XmYCmGoWGEI3"
      },
      "source": [
        "import pandas as pd\n",
        "import matplotlib.pyplot as plt\n",
        "import numpy as np\n",
        "import scipy.stats as stats\n",
        "import pylab"
      ],
      "execution_count": null,
      "outputs": []
    },
    {
      "cell_type": "code",
      "metadata": {
        "id": "evqSCF8EZIdO"
      },
      "source": [
        "import io\n",
        "df = pd.read_csv(io.BytesIO(uploaded['National_Vital_Statistics_System__NVSS__-_National_Cardiovascular_Disease_Surveillance_Data.csv']))"
      ],
      "execution_count": null,
      "outputs": []
    },
    {
      "cell_type": "markdown",
      "metadata": {
        "id": "bJZlaq-7e9ni"
      },
      "source": [
        "# Data Overview"
      ]
    },
    {
      "cell_type": "code",
      "metadata": {
        "id": "A99iK2ypZ1GL",
        "colab": {
          "base_uri": "https://localhost:8080/",
          "height": 479
        },
        "outputId": "07cac70d-6821-4516-ab31-9d8705856d5a"
      },
      "source": [
        "df.head (5)"
      ],
      "execution_count": null,
      "outputs": [
        {
          "output_type": "execute_result",
          "data": {
            "text/html": [
              "<div>\n",
              "<style scoped>\n",
              "    .dataframe tbody tr th:only-of-type {\n",
              "        vertical-align: middle;\n",
              "    }\n",
              "\n",
              "    .dataframe tbody tr th {\n",
              "        vertical-align: top;\n",
              "    }\n",
              "\n",
              "    .dataframe thead th {\n",
              "        text-align: right;\n",
              "    }\n",
              "</style>\n",
              "<table border=\"1\" class=\"dataframe\">\n",
              "  <thead>\n",
              "    <tr style=\"text-align: right;\">\n",
              "      <th></th>\n",
              "      <th>Year</th>\n",
              "      <th>LocationAbbr</th>\n",
              "      <th>LocationDesc</th>\n",
              "      <th>DataSource</th>\n",
              "      <th>PriorityArea1</th>\n",
              "      <th>PriorityArea2</th>\n",
              "      <th>PriorityArea3</th>\n",
              "      <th>PriorityArea4</th>\n",
              "      <th>Category</th>\n",
              "      <th>Topic</th>\n",
              "      <th>Indicator</th>\n",
              "      <th>Data_Value_Type</th>\n",
              "      <th>Data_Value_Unit</th>\n",
              "      <th>Data_Value</th>\n",
              "      <th>Data_Value_Alt</th>\n",
              "      <th>Data_Value_Footnote_Symbol</th>\n",
              "      <th>Data_Value_Footnote</th>\n",
              "      <th>LowConfidenceLimit</th>\n",
              "      <th>HighConfidenceLimit</th>\n",
              "      <th>Break_Out_Category</th>\n",
              "      <th>Break_Out</th>\n",
              "      <th>CategoryId</th>\n",
              "      <th>TopicId</th>\n",
              "      <th>IndicatorID</th>\n",
              "      <th>Data_Value_TypeID</th>\n",
              "      <th>BreakOutCategoryId</th>\n",
              "      <th>BreakOutId</th>\n",
              "      <th>LocationID</th>\n",
              "      <th>GeoLocation</th>\n",
              "    </tr>\n",
              "  </thead>\n",
              "  <tbody>\n",
              "    <tr>\n",
              "      <th>0</th>\n",
              "      <td>2000</td>\n",
              "      <td>MT</td>\n",
              "      <td>Montana</td>\n",
              "      <td>NVSS</td>\n",
              "      <td>None</td>\n",
              "      <td>None</td>\n",
              "      <td>None</td>\n",
              "      <td>None</td>\n",
              "      <td>Cardiovascular Diseases</td>\n",
              "      <td>Major Cardiovascular Disease</td>\n",
              "      <td>Rate of major cardiovascular disease mortality...</td>\n",
              "      <td>Age-Standardized</td>\n",
              "      <td>Rate per 100,000</td>\n",
              "      <td>362.3</td>\n",
              "      <td>362.3</td>\n",
              "      <td>NaN</td>\n",
              "      <td>NaN</td>\n",
              "      <td>358.6</td>\n",
              "      <td>444.8</td>\n",
              "      <td>Race</td>\n",
              "      <td>Other</td>\n",
              "      <td>C1</td>\n",
              "      <td>T1</td>\n",
              "      <td>NV001</td>\n",
              "      <td>AgeStdz</td>\n",
              "      <td>BOC04</td>\n",
              "      <td>RAC07</td>\n",
              "      <td>30</td>\n",
              "      <td>POINT (-109.42442064499971 47.06652897200047)</td>\n",
              "    </tr>\n",
              "    <tr>\n",
              "      <th>1</th>\n",
              "      <td>2000</td>\n",
              "      <td>VT</td>\n",
              "      <td>Vermont</td>\n",
              "      <td>NVSS</td>\n",
              "      <td>None</td>\n",
              "      <td>None</td>\n",
              "      <td>None</td>\n",
              "      <td>None</td>\n",
              "      <td>Cardiovascular Diseases</td>\n",
              "      <td>Major Cardiovascular Disease</td>\n",
              "      <td>Rate of major cardiovascular disease mortality...</td>\n",
              "      <td>Crude</td>\n",
              "      <td>Rate per 100,000</td>\n",
              "      <td>3637.0</td>\n",
              "      <td>3637.0</td>\n",
              "      <td>NaN</td>\n",
              "      <td>NaN</td>\n",
              "      <td>3636.9</td>\n",
              "      <td>3637.1</td>\n",
              "      <td>Age</td>\n",
              "      <td>75+</td>\n",
              "      <td>C1</td>\n",
              "      <td>T1</td>\n",
              "      <td>NV001</td>\n",
              "      <td>Crude</td>\n",
              "      <td>BOC03</td>\n",
              "      <td>AGE08</td>\n",
              "      <td>50</td>\n",
              "      <td>POINT (-72.51764079099962 43.62538123900049)</td>\n",
              "    </tr>\n",
              "    <tr>\n",
              "      <th>2</th>\n",
              "      <td>2002</td>\n",
              "      <td>OH</td>\n",
              "      <td>Ohio</td>\n",
              "      <td>NVSS</td>\n",
              "      <td>None</td>\n",
              "      <td>None</td>\n",
              "      <td>None</td>\n",
              "      <td>None</td>\n",
              "      <td>Cardiovascular Diseases</td>\n",
              "      <td>Major Cardiovascular Disease</td>\n",
              "      <td>Rate of major cardiovascular disease mortality...</td>\n",
              "      <td>Crude</td>\n",
              "      <td>Rate per 100,000</td>\n",
              "      <td>28.0</td>\n",
              "      <td>28.0</td>\n",
              "      <td>NaN</td>\n",
              "      <td>NaN</td>\n",
              "      <td>27.9</td>\n",
              "      <td>28.1</td>\n",
              "      <td>Age</td>\n",
              "      <td>25-44</td>\n",
              "      <td>C1</td>\n",
              "      <td>T1</td>\n",
              "      <td>NV001</td>\n",
              "      <td>Crude</td>\n",
              "      <td>BOC03</td>\n",
              "      <td>AGE04</td>\n",
              "      <td>39</td>\n",
              "      <td>POINT (-82.40426005599966 40.06021014100048)</td>\n",
              "    </tr>\n",
              "    <tr>\n",
              "      <th>3</th>\n",
              "      <td>2003</td>\n",
              "      <td>DE</td>\n",
              "      <td>Delaware</td>\n",
              "      <td>NVSS</td>\n",
              "      <td>None</td>\n",
              "      <td>None</td>\n",
              "      <td>None</td>\n",
              "      <td>None</td>\n",
              "      <td>Cardiovascular Diseases</td>\n",
              "      <td>Major Cardiovascular Disease</td>\n",
              "      <td>Rate of major cardiovascular disease mortality...</td>\n",
              "      <td>Crude</td>\n",
              "      <td>Rate per 100,000</td>\n",
              "      <td>3556.0</td>\n",
              "      <td>3556.0</td>\n",
              "      <td>NaN</td>\n",
              "      <td>NaN</td>\n",
              "      <td>3556.0</td>\n",
              "      <td>3556.0</td>\n",
              "      <td>Age</td>\n",
              "      <td>75+</td>\n",
              "      <td>C1</td>\n",
              "      <td>T1</td>\n",
              "      <td>NV001</td>\n",
              "      <td>Crude</td>\n",
              "      <td>BOC03</td>\n",
              "      <td>AGE08</td>\n",
              "      <td>10</td>\n",
              "      <td>POINT (-75.57774116799965 39.008830667000495)</td>\n",
              "    </tr>\n",
              "    <tr>\n",
              "      <th>4</th>\n",
              "      <td>2003</td>\n",
              "      <td>VT</td>\n",
              "      <td>Vermont</td>\n",
              "      <td>NVSS</td>\n",
              "      <td>None</td>\n",
              "      <td>None</td>\n",
              "      <td>None</td>\n",
              "      <td>None</td>\n",
              "      <td>Cardiovascular Diseases</td>\n",
              "      <td>Major Cardiovascular Disease</td>\n",
              "      <td>Rate of major cardiovascular disease mortality...</td>\n",
              "      <td>Crude</td>\n",
              "      <td>Rate per 100,000</td>\n",
              "      <td>3240.0</td>\n",
              "      <td>3240.0</td>\n",
              "      <td>NaN</td>\n",
              "      <td>NaN</td>\n",
              "      <td>3239.9</td>\n",
              "      <td>3240.1</td>\n",
              "      <td>Age</td>\n",
              "      <td>75+</td>\n",
              "      <td>C1</td>\n",
              "      <td>T1</td>\n",
              "      <td>NV001</td>\n",
              "      <td>Crude</td>\n",
              "      <td>BOC03</td>\n",
              "      <td>AGE08</td>\n",
              "      <td>50</td>\n",
              "      <td>POINT (-72.51764079099962 43.62538123900049)</td>\n",
              "    </tr>\n",
              "  </tbody>\n",
              "</table>\n",
              "</div>"
            ],
            "text/plain": [
              "   Year LocationAbbr  ... LocationID                                    GeoLocation\n",
              "0  2000           MT  ...         30  POINT (-109.42442064499971 47.06652897200047)\n",
              "1  2000           VT  ...         50   POINT (-72.51764079099962 43.62538123900049)\n",
              "2  2002           OH  ...         39   POINT (-82.40426005599966 40.06021014100048)\n",
              "3  2003           DE  ...         10  POINT (-75.57774116799965 39.008830667000495)\n",
              "4  2003           VT  ...         50   POINT (-72.51764079099962 43.62538123900049)\n",
              "\n",
              "[5 rows x 29 columns]"
            ]
          },
          "metadata": {
            "tags": []
          },
          "execution_count": 7
        }
      ]
    },
    {
      "cell_type": "code",
      "metadata": {
        "id": "S7ibC0eqaKqF",
        "colab": {
          "base_uri": "https://localhost:8080/",
          "height": 34
        },
        "outputId": "1080ee99-7c81-46cc-f79b-78f9242e4272"
      },
      "source": [
        "df.shape"
      ],
      "execution_count": null,
      "outputs": [
        {
          "output_type": "execute_result",
          "data": {
            "text/plain": [
              "(158080, 29)"
            ]
          },
          "metadata": {
            "tags": []
          },
          "execution_count": 8
        }
      ]
    },
    {
      "cell_type": "code",
      "metadata": {
        "id": "eFr_e3uubBo6",
        "colab": {
          "base_uri": "https://localhost:8080/",
          "height": 527
        },
        "outputId": "6ccab7ba-7563-4b42-e977-318aca25fb3a"
      },
      "source": [
        "df.dtypes"
      ],
      "execution_count": null,
      "outputs": [
        {
          "output_type": "execute_result",
          "data": {
            "text/plain": [
              "Year                            int64\n",
              "LocationAbbr                   object\n",
              "LocationDesc                   object\n",
              "DataSource                     object\n",
              "PriorityArea1                  object\n",
              "PriorityArea2                  object\n",
              "PriorityArea3                  object\n",
              "PriorityArea4                  object\n",
              "Category                       object\n",
              "Topic                          object\n",
              "Indicator                      object\n",
              "Data_Value_Type                object\n",
              "Data_Value_Unit                object\n",
              "Data_Value                    float64\n",
              "Data_Value_Alt                float64\n",
              "Data_Value_Footnote_Symbol     object\n",
              "Data_Value_Footnote            object\n",
              "LowConfidenceLimit            float64\n",
              "HighConfidenceLimit           float64\n",
              "Break_Out_Category             object\n",
              "Break_Out                      object\n",
              "CategoryId                     object\n",
              "TopicId                        object\n",
              "IndicatorID                    object\n",
              "Data_Value_TypeID              object\n",
              "BreakOutCategoryId             object\n",
              "BreakOutId                     object\n",
              "LocationID                      int64\n",
              "GeoLocation                    object\n",
              "dtype: object"
            ]
          },
          "metadata": {
            "tags": []
          },
          "execution_count": 9
        }
      ]
    },
    {
      "cell_type": "markdown",
      "metadata": {
        "id": "SB3Ho8X6rKF9"
      },
      "source": [
        "# Value Counts"
      ]
    },
    {
      "cell_type": "code",
      "metadata": {
        "id": "wH_MCNEy_QbB",
        "colab": {
          "base_uri": "https://localhost:8080/",
          "height": 1000
        },
        "outputId": "f0edd58e-bf6b-456b-df65-53cfb078d10c"
      },
      "source": [
        "print(\"Year\")\n",
        "print(df['Year'].value_counts())\n",
        "print()\n",
        "\n",
        "print(\"LocationDesc\")\n",
        "print(df['LocationDesc'].value_counts())\n",
        "print()\n",
        "\n",
        "print(\"Data_Value_Type\")\n",
        "print(df['Data_Value_Type'].value_counts())\n",
        "print()"
      ],
      "execution_count": null,
      "outputs": [
        {
          "output_type": "stream",
          "text": [
            "Year\n",
            "2018    8320\n",
            "2008    8320\n",
            "2001    8320\n",
            "2002    8320\n",
            "2003    8320\n",
            "2004    8320\n",
            "2005    8320\n",
            "2006    8320\n",
            "2007    8320\n",
            "2009    8320\n",
            "2017    8320\n",
            "2010    8320\n",
            "2011    8320\n",
            "2012    8320\n",
            "2013    8320\n",
            "2014    8320\n",
            "2015    8320\n",
            "2016    8320\n",
            "2000    8320\n",
            "Name: Year, dtype: int64\n",
            "\n",
            "LocationDesc\n",
            "Maryland          3040\n",
            "Virginia          3040\n",
            "New Hampshire     3040\n",
            "Mississippi       3040\n",
            "Arizona           3040\n",
            "Florida           3040\n",
            "South Carolina    3040\n",
            "Arkansas          3040\n",
            "Delaware          3040\n",
            "Oregon            3040\n",
            "Kansas            3040\n",
            "Alabama           3040\n",
            "Nevada            3040\n",
            "Missouri          3040\n",
            "Pennsylvania      3040\n",
            "Louisiana         3040\n",
            "Oklahoma          3040\n",
            "California        3040\n",
            "Georgia           3040\n",
            "New Jersey        3040\n",
            "Montana           3040\n",
            "Tennessee         3040\n",
            "Iowa              3040\n",
            "Rhode Island      3040\n",
            "Wisconsin         3040\n",
            "North Carolina    3040\n",
            "Kentucky          3040\n",
            "Ohio              3040\n",
            "South Dakota      3040\n",
            "Idaho             3040\n",
            "Alaska            3040\n",
            "Wyoming           3040\n",
            "Nebraska          3040\n",
            "Colorado          3040\n",
            "Minnesota         3040\n",
            "Connecticut       3040\n",
            "Massachusetts     3040\n",
            "New York          3040\n",
            "Hawaii            3040\n",
            "United States     3040\n",
            "Vermont           3040\n",
            "Maine             3040\n",
            "Texas             3040\n",
            "Washington        3040\n",
            "Michigan          3040\n",
            "West Virginia     3040\n",
            "North Dakota      3040\n",
            "Utah              3040\n",
            "New Mexico        3040\n",
            "Washington, DC    3040\n",
            "Illinois          3040\n",
            "Indiana           3040\n",
            "Name: LocationDesc, dtype: int64\n",
            "\n",
            "Data_Value_Type\n",
            "Crude               102752\n",
            "Age-Standardized     55328\n",
            "Name: Data_Value_Type, dtype: int64\n",
            "\n"
          ],
          "name": "stdout"
        }
      ]
    },
    {
      "cell_type": "markdown",
      "metadata": {
        "id": "iouVmJXke7vr"
      },
      "source": [
        "# Central Tendency/Distribution"
      ]
    },
    {
      "cell_type": "code",
      "metadata": {
        "id": "aH4GumBObKE8",
        "colab": {
          "base_uri": "https://localhost:8080/",
          "height": 297
        },
        "outputId": "22bf64c4-cbde-4786-e126-ae12263242a0"
      },
      "source": [
        "df.describe()"
      ],
      "execution_count": null,
      "outputs": [
        {
          "output_type": "execute_result",
          "data": {
            "text/html": [
              "<div>\n",
              "<style scoped>\n",
              "    .dataframe tbody tr th:only-of-type {\n",
              "        vertical-align: middle;\n",
              "    }\n",
              "\n",
              "    .dataframe tbody tr th {\n",
              "        vertical-align: top;\n",
              "    }\n",
              "\n",
              "    .dataframe thead th {\n",
              "        text-align: right;\n",
              "    }\n",
              "</style>\n",
              "<table border=\"1\" class=\"dataframe\">\n",
              "  <thead>\n",
              "    <tr style=\"text-align: right;\">\n",
              "      <th></th>\n",
              "      <th>Year</th>\n",
              "      <th>Data_Value</th>\n",
              "      <th>Data_Value_Alt</th>\n",
              "      <th>LowConfidenceLimit</th>\n",
              "      <th>HighConfidenceLimit</th>\n",
              "      <th>LocationID</th>\n",
              "    </tr>\n",
              "  </thead>\n",
              "  <tbody>\n",
              "    <tr>\n",
              "      <th>count</th>\n",
              "      <td>158080.000000</td>\n",
              "      <td>129093.000000</td>\n",
              "      <td>158080.000000</td>\n",
              "      <td>129093.000000</td>\n",
              "      <td>129093.000000</td>\n",
              "      <td>158080.000000</td>\n",
              "    </tr>\n",
              "    <tr>\n",
              "      <th>mean</th>\n",
              "      <td>2009.000000</td>\n",
              "      <td>196.724188</td>\n",
              "      <td>160.284297</td>\n",
              "      <td>196.550075</td>\n",
              "      <td>199.224551</td>\n",
              "      <td>29.538462</td>\n",
              "    </tr>\n",
              "    <tr>\n",
              "      <th>std</th>\n",
              "      <td>5.477243</td>\n",
              "      <td>393.849595</td>\n",
              "      <td>364.125272</td>\n",
              "      <td>393.856019</td>\n",
              "      <td>394.213148</td>\n",
              "      <td>16.064179</td>\n",
              "    </tr>\n",
              "    <tr>\n",
              "      <th>min</th>\n",
              "      <td>2000.000000</td>\n",
              "      <td>0.100000</td>\n",
              "      <td>-2.000000</td>\n",
              "      <td>0.100000</td>\n",
              "      <td>0.100000</td>\n",
              "      <td>1.000000</td>\n",
              "    </tr>\n",
              "    <tr>\n",
              "      <th>25%</th>\n",
              "      <td>2004.000000</td>\n",
              "      <td>26.300000</td>\n",
              "      <td>11.800000</td>\n",
              "      <td>26.100000</td>\n",
              "      <td>28.300000</td>\n",
              "      <td>16.750000</td>\n",
              "    </tr>\n",
              "    <tr>\n",
              "      <th>50%</th>\n",
              "      <td>2009.000000</td>\n",
              "      <td>66.700000</td>\n",
              "      <td>45.000000</td>\n",
              "      <td>66.500000</td>\n",
              "      <td>69.300000</td>\n",
              "      <td>29.500000</td>\n",
              "    </tr>\n",
              "    <tr>\n",
              "      <th>75%</th>\n",
              "      <td>2014.000000</td>\n",
              "      <td>225.800000</td>\n",
              "      <td>174.400000</td>\n",
              "      <td>225.600000</td>\n",
              "      <td>229.200000</td>\n",
              "      <td>42.500000</td>\n",
              "    </tr>\n",
              "    <tr>\n",
              "      <th>max</th>\n",
              "      <td>2018.000000</td>\n",
              "      <td>4789.400000</td>\n",
              "      <td>4789.400000</td>\n",
              "      <td>4737.400000</td>\n",
              "      <td>5937.200000</td>\n",
              "      <td>59.000000</td>\n",
              "    </tr>\n",
              "  </tbody>\n",
              "</table>\n",
              "</div>"
            ],
            "text/plain": [
              "                Year     Data_Value  ...  HighConfidenceLimit     LocationID\n",
              "count  158080.000000  129093.000000  ...        129093.000000  158080.000000\n",
              "mean     2009.000000     196.724188  ...           199.224551      29.538462\n",
              "std         5.477243     393.849595  ...           394.213148      16.064179\n",
              "min      2000.000000       0.100000  ...             0.100000       1.000000\n",
              "25%      2004.000000      26.300000  ...            28.300000      16.750000\n",
              "50%      2009.000000      66.700000  ...            69.300000      29.500000\n",
              "75%      2014.000000     225.800000  ...           229.200000      42.500000\n",
              "max      2018.000000    4789.400000  ...          5937.200000      59.000000\n",
              "\n",
              "[8 rows x 6 columns]"
            ]
          },
          "metadata": {
            "tags": []
          },
          "execution_count": 11
        }
      ]
    },
    {
      "cell_type": "code",
      "metadata": {
        "id": "Ze3kCoADSiA-",
        "colab": {
          "base_uri": "https://localhost:8080/",
          "height": 80
        },
        "outputId": "aa0e814c-eb87-4ffa-9f35-73d7c2204404"
      },
      "source": [
        "df2 = df[['Data_Value', 'Data_Value_Alt','LowConfidenceLimit','HighConfidenceLimit']]\n",
        "df2.mode(axis=0, numeric_only=True, dropna=True)"
      ],
      "execution_count": null,
      "outputs": [
        {
          "output_type": "execute_result",
          "data": {
            "text/html": [
              "<div>\n",
              "<style scoped>\n",
              "    .dataframe tbody tr th:only-of-type {\n",
              "        vertical-align: middle;\n",
              "    }\n",
              "\n",
              "    .dataframe tbody tr th {\n",
              "        vertical-align: top;\n",
              "    }\n",
              "\n",
              "    .dataframe thead th {\n",
              "        text-align: right;\n",
              "    }\n",
              "</style>\n",
              "<table border=\"1\" class=\"dataframe\">\n",
              "  <thead>\n",
              "    <tr style=\"text-align: right;\">\n",
              "      <th></th>\n",
              "      <th>Data_Value</th>\n",
              "      <th>Data_Value_Alt</th>\n",
              "      <th>LowConfidenceLimit</th>\n",
              "      <th>HighConfidenceLimit</th>\n",
              "    </tr>\n",
              "  </thead>\n",
              "  <tbody>\n",
              "    <tr>\n",
              "      <th>0</th>\n",
              "      <td>14.1</td>\n",
              "      <td>-2.0</td>\n",
              "      <td>15.4</td>\n",
              "      <td>15.6</td>\n",
              "    </tr>\n",
              "  </tbody>\n",
              "</table>\n",
              "</div>"
            ],
            "text/plain": [
              "   Data_Value  Data_Value_Alt  LowConfidenceLimit  HighConfidenceLimit\n",
              "0        14.1            -2.0                15.4                 15.6"
            ]
          },
          "metadata": {
            "tags": []
          },
          "execution_count": 18
        }
      ]
    },
    {
      "cell_type": "code",
      "metadata": {
        "id": "LGor-R5oS9XS",
        "colab": {
          "base_uri": "https://localhost:8080/",
          "height": 136
        },
        "outputId": "ba5772de-e414-4093-b346-40fa2348e35c"
      },
      "source": [
        "df.quantile(.5)"
      ],
      "execution_count": null,
      "outputs": [
        {
          "output_type": "execute_result",
          "data": {
            "text/plain": [
              "Year                   2009.0\n",
              "Data_Value               66.7\n",
              "Data_Value_Alt           45.0\n",
              "LowConfidenceLimit       66.5\n",
              "HighConfidenceLimit      69.3\n",
              "LocationID               29.5\n",
              "Name: 0.5, dtype: float64"
            ]
          },
          "metadata": {
            "tags": []
          },
          "execution_count": 13
        }
      ]
    },
    {
      "cell_type": "markdown",
      "metadata": {
        "id": "06sNmnEtiua9"
      },
      "source": [
        "# Visualizations"
      ]
    },
    {
      "cell_type": "code",
      "metadata": {
        "id": "qLytLZplixCl",
        "colab": {
          "base_uri": "https://localhost:8080/",
          "height": 1000
        },
        "outputId": "e136f280-9b16-4c00-bd07-ca4ab1a31d35"
      },
      "source": [
        "df.hist(figsize=(20,20))"
      ],
      "execution_count": null,
      "outputs": [
        {
          "output_type": "execute_result",
          "data": {
            "text/plain": [
              "array([[<matplotlib.axes._subplots.AxesSubplot object at 0x7f743268b828>,\n",
              "        <matplotlib.axes._subplots.AxesSubplot object at 0x7f7432664a90>],\n",
              "       [<matplotlib.axes._subplots.AxesSubplot object at 0x7f7432617cf8>,\n",
              "        <matplotlib.axes._subplots.AxesSubplot object at 0x7f74325c7f60>],\n",
              "       [<matplotlib.axes._subplots.AxesSubplot object at 0x7f7432584208>,\n",
              "        <matplotlib.axes._subplots.AxesSubplot object at 0x7f74325b3470>]],\n",
              "      dtype=object)"
            ]
          },
          "metadata": {
            "tags": []
          },
          "execution_count": 14
        },
        {
          "output_type": "display_data",
          "data": {
            "image/png": "[encoded data removed]",
            "text/plain": [
              "<Figure size 1440x1440 with 6 Axes>"
            ]
          },
          "metadata": {
            "tags": [],
            "needs_background": "light"
          }
        }
      ]
    },
    {
      "cell_type": "code",
      "metadata": {
        "id": "IIE6hGU4MggY",
        "colab": {
          "base_uri": "https://localhost:8080/",
          "height": 295
        },
        "outputId": "c2ffee58-bbcd-4c61-d068-b3f1c2182280"
      },
      "source": [
        "measurements=np.random.normal(loc=20,scale=5,size=100)\n",
        "stats.probplot(measurements,dist='norm',plot=pylab)\n",
        "pylab.show()"
      ],
      "execution_count": null,
      "outputs": [
        {
          "output_type": "display_data",
          "data": {
            "image/png": "[encoded data removed]",
            "text/plain": [
              "<Figure size 432x288 with 1 Axes>"
            ]
          },
          "metadata": {
            "tags": [],
            "needs_background": "light"
          }
        }
      ]
    },
    {
      "cell_type": "code",
      "metadata": {
        "id": "bjKHqXsVP_x4",
        "colab": {
          "base_uri": "https://localhost:8080/",
          "height": 384
        },
        "outputId": "2ed2462a-cd07-41cf-d632-bdd5e143a014"
      },
      "source": [
        "plt.hist(df[\"LocationID\"],bins=15)"
      ],
      "execution_count": null,
      "outputs": [
        {
          "output_type": "execute_result",
          "data": {
            "text/plain": [
              "(array([ 9120.,  9120., 12160.,  9120., 12160., 12160., 12160.,  9120.,\n",
              "        12160., 12160.,  9120., 12160., 12160.,  9120.,  6080.]),\n",
              " array([ 1.        ,  4.86666667,  8.73333333, 12.6       , 16.46666667,\n",
              "        20.33333333, 24.2       , 28.06666667, 31.93333333, 35.8       ,\n",
              "        39.66666667, 43.53333333, 47.4       , 51.26666667, 55.13333333,\n",
              "        59.        ]),\n",
              " <a list of 15 Patch objects>)"
            ]
          },
          "metadata": {
            "tags": []
          },
          "execution_count": 206
        },
        {
          "output_type": "display_data",
          "data": {
            "image/png": "[encoded data removed]",
            "text/plain": [
              "<Figure size 432x288 with 1 Axes>"
            ]
          },
          "metadata": {
            "tags": [],
            "needs_background": "light"
          }
        }
      ]
    },
    {
      "cell_type": "markdown",
      "metadata": {
        "id": "CFgK0H-ZepfD"
      },
      "source": [
        "# Missing Data"
      ]
    },
    {
      "cell_type": "code",
      "metadata": {
        "id": "DPOGx4AriY1f",
        "colab": {
          "base_uri": "https://localhost:8080/",
          "height": 34
        },
        "outputId": "2652fa69-f577-4100-b3d8-a2333856b912"
      },
      "source": [
        "df.isnull().values.any()"
      ],
      "execution_count": null,
      "outputs": [
        {
          "output_type": "execute_result",
          "data": {
            "text/plain": [
              "True"
            ]
          },
          "metadata": {
            "tags": []
          },
          "execution_count": 146
        }
      ]
    },
    {
      "cell_type": "code",
      "metadata": {
        "id": "oFCLKwzyesvN",
        "colab": {
          "base_uri": "https://localhost:8080/",
          "height": 34
        },
        "outputId": "4c26ca81-cce1-4b96-f5f3-0e5d9c28dce0"
      },
      "source": [
        "df.isnull().sum().sum()"
      ],
      "execution_count": null,
      "outputs": [
        {
          "output_type": "execute_result",
          "data": {
            "text/plain": [
              "348187"
            ]
          },
          "metadata": {
            "tags": []
          },
          "execution_count": 147
        }
      ]
    },
    {
      "cell_type": "code",
      "metadata": {
        "id": "7u4g7Wcqiffx",
        "colab": {
          "base_uri": "https://localhost:8080/",
          "height": 527
        },
        "outputId": "8a0a1d9b-0c88-424a-e8df-10ce5ff4fd61"
      },
      "source": [
        "df.isnull().sum()"
      ],
      "execution_count": null,
      "outputs": [
        {
          "output_type": "execute_result",
          "data": {
            "text/plain": [
              "Year                               0\n",
              "LocationAbbr                       0\n",
              "LocationDesc                       0\n",
              "DataSource                         0\n",
              "PriorityArea1                      0\n",
              "PriorityArea2                      0\n",
              "PriorityArea3                      0\n",
              "PriorityArea4                      0\n",
              "Category                           0\n",
              "Topic                              0\n",
              "Indicator                          0\n",
              "Data_Value_Type                    0\n",
              "Data_Value_Unit                    0\n",
              "Data_Value                     28987\n",
              "Data_Value_Alt                     0\n",
              "Data_Value_Footnote_Symbol    129093\n",
              "Data_Value_Footnote           129093\n",
              "LowConfidenceLimit             28987\n",
              "HighConfidenceLimit            28987\n",
              "Break_Out_Category                 0\n",
              "Break_Out                          0\n",
              "CategoryId                         0\n",
              "TopicId                            0\n",
              "IndicatorID                        0\n",
              "Data_Value_TypeID                  0\n",
              "BreakOutCategoryId                 0\n",
              "BreakOutId                         0\n",
              "LocationID                         0\n",
              "GeoLocation                     3040\n",
              "dtype: int64"
            ]
          },
          "metadata": {
            "tags": []
          },
          "execution_count": 148
        }
      ]
    },
    {
      "cell_type": "markdown",
      "metadata": {
        "id": "GuAHN8Wyetyc"
      },
      "source": [
        "# Transformations"
      ]
    },
    {
      "cell_type": "code",
      "metadata": {
        "id": "sfIMXdXqC27m",
        "colab": {
          "base_uri": "https://localhost:8080/",
          "height": 221
        },
        "outputId": "462570aa-7895-48d8-c588-50784106ddd5"
      },
      "source": [
        "df.groupby(\"Data_Value_Alt\")[\"Data_Value\"].transform('mean')"
      ],
      "execution_count": null,
      "outputs": [
        {
          "output_type": "execute_result",
          "data": {
            "text/plain": [
              "0          362.3\n",
              "1         3637.0\n",
              "2           28.0\n",
              "3         3556.0\n",
              "4         3240.0\n",
              "           ...  \n",
              "158075       NaN\n",
              "158076       9.1\n",
              "158077      11.0\n",
              "158078       9.9\n",
              "158079       NaN\n",
              "Name: Data_Value, Length: 158080, dtype: float64"
            ]
          },
          "metadata": {
            "tags": []
          },
          "execution_count": 199
        }
      ]
    },
    {
      "cell_type": "code",
      "metadata": {
        "id": "LrPwW-YSIbEd",
        "colab": {
          "base_uri": "https://localhost:8080/",
          "height": 221
        },
        "outputId": "efcd2f3e-ca70-464b-bae6-ad51adf7153e"
      },
      "source": [
        "df.groupby(\"LowConfidenceLimit\")[\"HighConfidenceLimit\"].transform('mean')"
      ],
      "execution_count": null,
      "outputs": [
        {
          "output_type": "execute_result",
          "data": {
            "text/plain": [
              "0          365.276923\n",
              "1         3637.100000\n",
              "2           30.111017\n",
              "3         3556.000000\n",
              "4         3240.100000\n",
              "             ...     \n",
              "158075            NaN\n",
              "158076      11.344643\n",
              "158077      12.880769\n",
              "158078      11.888816\n",
              "158079            NaN\n",
              "Name: HighConfidenceLimit, Length: 158080, dtype: float64"
            ]
          },
          "metadata": {
            "tags": []
          },
          "execution_count": 197
        }
      ]
    },
    {
      "cell_type": "markdown",
      "metadata": {
        "id": "RT7NgMPXaub0"
      },
      "source": [
        "# Quartile Ranges"
      ]
    },
    {
      "cell_type": "code",
      "metadata": {
        "id": "8cCPjoKZa09E",
        "colab": {
          "base_uri": "https://localhost:8080/",
          "height": 136
        },
        "outputId": "a74e9f06-8eba-425d-b669-60f2ab5acacf"
      },
      "source": [
        "df.quantile(.25)"
      ],
      "execution_count": null,
      "outputs": [
        {
          "output_type": "execute_result",
          "data": {
            "text/plain": [
              "Year                   2004.00\n",
              "Data_Value               26.30\n",
              "Data_Value_Alt           11.80\n",
              "LowConfidenceLimit       26.10\n",
              "HighConfidenceLimit      28.30\n",
              "LocationID               16.75\n",
              "Name: 0.25, dtype: float64"
            ]
          },
          "metadata": {
            "tags": []
          },
          "execution_count": 150
        }
      ]
    },
    {
      "cell_type": "code",
      "metadata": {
        "id": "TrYzNzzjdR9C",
        "colab": {
          "base_uri": "https://localhost:8080/",
          "height": 136
        },
        "outputId": "816d7504-bc78-44bb-cee4-0b37478c376b"
      },
      "source": [
        "df.quantile(.50)"
      ],
      "execution_count": null,
      "outputs": [
        {
          "output_type": "execute_result",
          "data": {
            "text/plain": [
              "Year                   2009.0\n",
              "Data_Value               66.7\n",
              "Data_Value_Alt           45.0\n",
              "LowConfidenceLimit       66.5\n",
              "HighConfidenceLimit      69.3\n",
              "LocationID               29.5\n",
              "Name: 0.5, dtype: float64"
            ]
          },
          "metadata": {
            "tags": []
          },
          "execution_count": 151
        }
      ]
    },
    {
      "cell_type": "code",
      "metadata": {
        "id": "lt92wcyTdVyk",
        "colab": {
          "base_uri": "https://localhost:8080/",
          "height": 136
        },
        "outputId": "3f54aa69-4a60-4d14-d5a4-2466f6c90302"
      },
      "source": [
        "df.quantile(.75)"
      ],
      "execution_count": null,
      "outputs": [
        {
          "output_type": "execute_result",
          "data": {
            "text/plain": [
              "Year                   2014.0\n",
              "Data_Value              225.8\n",
              "Data_Value_Alt          174.4\n",
              "LowConfidenceLimit      225.6\n",
              "HighConfidenceLimit     229.2\n",
              "LocationID               42.5\n",
              "Name: 0.75, dtype: float64"
            ]
          },
          "metadata": {
            "tags": []
          },
          "execution_count": 152
        }
      ]
    },
    {
      "cell_type": "code",
      "metadata": {
        "id": "n3FXOg3wdbjq",
        "colab": {
          "base_uri": "https://localhost:8080/",
          "height": 142
        },
        "outputId": "576d44fa-9582-4c58-f4c3-bef52900ec2f"
      },
      "source": [
        "df.quantile([.25,.50,.75],axis=0)"
      ],
      "execution_count": null,
      "outputs": [
        {
          "output_type": "execute_result",
          "data": {
            "text/html": [
              "<div>\n",
              "<style scoped>\n",
              "    .dataframe tbody tr th:only-of-type {\n",
              "        vertical-align: middle;\n",
              "    }\n",
              "\n",
              "    .dataframe tbody tr th {\n",
              "        vertical-align: top;\n",
              "    }\n",
              "\n",
              "    .dataframe thead th {\n",
              "        text-align: right;\n",
              "    }\n",
              "</style>\n",
              "<table border=\"1\" class=\"dataframe\">\n",
              "  <thead>\n",
              "    <tr style=\"text-align: right;\">\n",
              "      <th></th>\n",
              "      <th>Year</th>\n",
              "      <th>Data_Value</th>\n",
              "      <th>Data_Value_Alt</th>\n",
              "      <th>LowConfidenceLimit</th>\n",
              "      <th>HighConfidenceLimit</th>\n",
              "      <th>LocationID</th>\n",
              "    </tr>\n",
              "  </thead>\n",
              "  <tbody>\n",
              "    <tr>\n",
              "      <th>0.25</th>\n",
              "      <td>2004.0</td>\n",
              "      <td>26.3</td>\n",
              "      <td>11.8</td>\n",
              "      <td>26.1</td>\n",
              "      <td>28.3</td>\n",
              "      <td>16.75</td>\n",
              "    </tr>\n",
              "    <tr>\n",
              "      <th>0.50</th>\n",
              "      <td>2009.0</td>\n",
              "      <td>66.7</td>\n",
              "      <td>45.0</td>\n",
              "      <td>66.5</td>\n",
              "      <td>69.3</td>\n",
              "      <td>29.50</td>\n",
              "    </tr>\n",
              "    <tr>\n",
              "      <th>0.75</th>\n",
              "      <td>2014.0</td>\n",
              "      <td>225.8</td>\n",
              "      <td>174.4</td>\n",
              "      <td>225.6</td>\n",
              "      <td>229.2</td>\n",
              "      <td>42.50</td>\n",
              "    </tr>\n",
              "  </tbody>\n",
              "</table>\n",
              "</div>"
            ],
            "text/plain": [
              "        Year  Data_Value  ...  HighConfidenceLimit  LocationID\n",
              "0.25  2004.0        26.3  ...                 28.3       16.75\n",
              "0.50  2009.0        66.7  ...                 69.3       29.50\n",
              "0.75  2014.0       225.8  ...                229.2       42.50\n",
              "\n",
              "[3 rows x 6 columns]"
            ]
          },
          "metadata": {
            "tags": []
          },
          "execution_count": 153
        }
      ]
    }
  ]
}